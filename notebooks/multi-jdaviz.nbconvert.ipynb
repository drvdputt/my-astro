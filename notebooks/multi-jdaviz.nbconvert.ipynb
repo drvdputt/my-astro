{
 "cells": [
  {
   "cell_type": "markdown",
   "id": "3005aa8e-c7bf-4fdb-8623-bf9f1cd26840",
   "metadata": {},
   "source": [
    "# Multiple jdaviz panels"
   ]
  },
  {
   "cell_type": "code",
   "execution_count": null,
   "id": "56a470f5-99d6-45c8-a846-866bc4638c58",
   "metadata": {},
   "outputs": [],
   "source": [
    "from jdaviz import Cubeviz, Specviz\n",
    "# I want to open these files\n",
    "from pathlib import Path\n",
    "\n",
    "def compare_cube_fn(fn1, fn2):\n",
    "    snippet1 = fn1.split('_')[1]\n",
    "    snippet2 = fn2.split('_')[1]\n",
    "    \n",
    "    ch_number1 = int(snippet1[2])\n",
    "    ch_number2 = int(snippet1[2])\n",
    "\n",
    "    if ch_number1 != ch_number2:\n",
    "        return ch_number1 < ch_number2\n",
    "    \n",
    "    s1 = snippet1[4:]\n",
    "    s2 = snippet2[4:]\n",
    "    \n",
    "    return (s1 == 'short' and (s2 == 'medium' or s2 == 'long')\n",
    "            or s1 == 'medium' and s2 == 'long')\n",
    "\n",
    "def cube_sortkey(fn):\n",
    "    snippet = str(fn).split('_')[1]\n",
    "    ch_number = int(snippet[2])\n",
    "    s1 = snippet[4:]\n",
    "    return ch_number * 4 + {'short': 1, 'medium':2, 'long':3}[s1]\n",
    "\n",
    "\n",
    "def make_instance_and_show(i):\n",
    "    cv = Cubeviz()\n",
    "    cv.load_data(files[i])\n",
    "    cv.show()\n",
    "    "
   ]
  },
  {
   "cell_type": "code",
   "execution_count": null,
   "id": "8237e68d-6676-478c-ae04-72d0450a80be",
   "metadata": {},
   "outputs": [],
   "source": [
    "files = sorted(list(Path('/Users/dvandeputte/Projects/horsehead+ncg7023/data/horsehead/mirifu/cubes-bg-rfr-outlier/').glob('BandCube*')), \n",
    "               key=cube_sortkey)\n",
    "# files = ['/Users/dvandeputte/Projects/horsehead+ncg7023/data/horsehead/mirifu/mast/cubes/jw01192-o010_t002_miri_ch1-shortmediumlong_s3d.fits',\n",
    "#          '/Users/dvandeputte/Projects/horsehead+ncg7023/data/horsehead/mirifu/mast/cubes/jw01192-o010_t002_miri_ch2-shortmediumlong_s3d.fits',\n",
    "#          '/Users/dvandeputte/Projects/horsehead+ncg7023/data/horsehead/mirifu/mast/cubes/jw01192-o010_t002_miri_ch3-shortmediumlong_s3d.fits',\n",
    "#          '/Users/dvandeputte/Projects/horsehead+ncg7023/data/horsehead/mirifu/mast/cubes/jw01192-o010_t002_miri_ch4-shortmediumlong_s3d.fits',\n",
    "#         #'/Users/dvandeputte/Projects/horsehead+ncg7023/data/horsehead/mirifu/mast/cubes/jw01192-c1002_t002_miri_ch1-shortmediumlong_s3d.fits'\n",
    "#         ]\n",
    "files\n"
   ]
  },
  {
   "cell_type": "code",
   "execution_count": null,
   "id": "a7b829a2-351d-4949-a3fe-a3ac91beba2f",
   "metadata": {},
   "outputs": [],
   "source": [
    "cv = Cubeviz()\n",
    "# cv.load_data(files[0])"
   ]
  },
  {
   "cell_type": "code",
   "execution_count": null,
   "id": "43b505f7-a38f-4b7b-b755-e7f29ea2f778",
   "metadata": {},
   "outputs": [],
   "source": [
    "#%%capture --no-display\n",
    "# lets try multiple in the same cell\n",
    "for i in range(len(files)):\n",
    "    make_instance_and_show(i)"
   ]
  },
  {
   "cell_type": "markdown",
   "id": "d141dc5b-ebfb-4938-995e-33e31895ed13",
   "metadata": {},
   "source": [
    "## specviz"
   ]
  },
  {
   "cell_type": "code",
   "execution_count": null,
   "id": "4d1455e9-d2b9-4c40-9faf-017dcd60da92",
   "metadata": {},
   "outputs": [],
   "source": [
    "files = ['/Users/dvandeputte/Projects/horsehead+ncg7023/data/horsehead/mirifu/mast/background/jw01192-o011_t014_miri_ch2-shortmediumlong_x1d.fits'] \n",
    "files"
   ]
  },
  {
   "cell_type": "code",
   "execution_count": null,
   "id": "b0bee3b8-8233-41c0-a866-0b0d5eb63a00",
   "metadata": {},
   "outputs": [],
   "source": [
    "sv = Specviz()\n",
    "sv.load_data(files[0])\n",
    "sv.show()"
   ]
  },
  {
   "cell_type": "markdown",
   "id": "0ebaace4-e003-4d5d-a556-729210c65470",
   "metadata": {},
   "source": [
    "### "
   ]
  }
 ],
 "metadata": {
  "kernelspec": {
   "display_name": "Python 3 (ipykernel)",
   "language": "python",
   "name": "python3"
  },
  "language_info": {
   "codemirror_mode": {
    "name": "ipython",
    "version": 3
   },
   "file_extension": ".py",
   "mimetype": "text/x-python",
   "name": "python",
   "nbconvert_exporter": "python",
   "pygments_lexer": "ipython3",
   "version": "3.11.0"
  }
 },
 "nbformat": 4,
 "nbformat_minor": 5
}
